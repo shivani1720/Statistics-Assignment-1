{
 "cells": [
  {
   "cell_type": "code",
   "execution_count": null,
   "metadata": {},
   "outputs": [],
   "source": [
    "# 1. Calculate the mean, median, mode and standard deviation for the problem\n",
    "statements 1& 2.\n",
    "Problem Statement 1:\n",
    "The marks awarded for an assignment set for a Year 8 class of 20 students were as\n",
    "follows:\n",
    "6 7 5 7 7 8 7 6 9 7 4 10 6 8 8 9 5 6 4 8"
   ]
  },
  {
   "cell_type": "code",
   "execution_count": 6,
   "metadata": {},
   "outputs": [
    {
     "name": "stdout",
     "output_type": "stream",
     "text": [
      "Mean: 6.85\n",
      "Median: 7.0\n",
      "Mode: ModeResult(mode=array([7]), count=array([5]))\n",
      "Standard Deviation: 1.5898113095584647\n"
     ]
    }
   ],
   "source": [
    "import numpy as np\n",
    "from scipy import stats\n",
    "\n",
    "dataset = [6,7,5,7,7,8,7,6, 9, 7, 4, 10, 6, 8, 8, 9, 5, 6, 4, 8]\n",
    "#Mean Value\n",
    "mean = np.mean(dataset)\n",
    "#Median Value\n",
    "median = np.median(dataset)\n",
    "#Mode Value\n",
    "mode = stats.mode(dataset)\n",
    "#Standard Deviation\n",
    "std = np.std(dataset)\n",
    "print(\"Mean:\",mean)\n",
    "print(\"Median:\",median)\n",
    "print(\"Mode:\",mode)\n",
    "print(\"Standard Deviation:\",std)\n"
   ]
  },
  {
   "cell_type": "code",
   "execution_count": null,
   "metadata": {},
   "outputs": [],
   "source": [
    "\"\"\"\"\n",
    "Problem Statement 2:\n",
    "The number of calls from motorists per day for roadside service was recorded for a\n",
    "particular month:\n",
    "28, 122, 217, 130, 120, 86, 80, 90, 140, 120, 70, 40, 145, 113, 90, 68, 174, 194, 170,\n",
    "100, 75, 104, 97, 75,\n",
    "123, 100, 75, 104, 97, 75, 123, 100, 89, 120, 109\n",
    "\"\"\"\""
   ]
  },
  {
   "cell_type": "code",
   "execution_count": 7,
   "metadata": {},
   "outputs": [
    {
     "name": "stdout",
     "output_type": "stream",
     "text": [
      "Mean: 107.51428571428572\n",
      "Median: 100.0\n",
      "Mode: ModeResult(mode=array([75]), count=array([4]))\n",
      "Standard Deviation: 38.77287080168403\n"
     ]
    }
   ],
   "source": [
    "import numpy as np\n",
    "from scipy import stats\n",
    "dataset = [28, 122, 217, 130, 120, 86, 80, 90, 140, 120, 70, 40, 145, 113, 90, 68, 174, 194, 170,100, 75, 104, 97, 75,123, 100, 75, 104, 97, 75, 123, 100, 89, 120, 109]\n",
    "mean = np.mean(dataset)\n",
    "median = np.median(dataset)\n",
    "mode = stats.mode(dataset)\n",
    "std = np.std(dataset)\n",
    "print(\"Mean:\",mean)\n",
    "print(\"Median:\",median)\n",
    "print(\"Mode:\",mode)\n",
    "print(\"Standard Deviation:\",std)"
   ]
  },
  {
   "cell_type": "code",
   "execution_count": null,
   "metadata": {},
   "outputs": [],
   "source": [
    "\"\"\"\"\n",
    "Problem Statement 3\n",
    "The number of times I go to the gym in weekdays, are given below along with its associated probability:\n",
    "x = 0, 1, 2, 3, 4, 5 f(x) = 0.09, 0.15, 0.40, 0.25, 0.10, 0.01 \n",
    "Calculate the mean no. of workouts in a week. Also evaluate the variance involved in it.\n",
    "\"\"\""
   ]
  },
  {
   "cell_type": "code",
   "execution_count": 8,
   "metadata": {},
   "outputs": [
    {
     "name": "stdout",
     "output_type": "stream",
     "text": [
      "Mean: 2.15\n",
      "Variance: 1.2275\n"
     ]
    }
   ],
   "source": [
    "import numpy as np\n",
    "x = np.array([0, 1, 2, 3, 4, 5])\n",
    "f = np.array([0.09, 0.15, 0.40, 0.25, 0.10, 0.01])\n",
    "Sod = np.sum(x*f)\n",
    "print(\"Mean:\",Sod)\n",
    "Vriance = np.sum(pow(x-Sod,2) * f)\n",
    "print(\"Variance:\",Vriance)"
   ]
  },
  {
   "cell_type": "code",
   "execution_count": null,
   "metadata": {},
   "outputs": [],
   "source": [
    "\"\"\"\"\n",
    "PROBLEM STATEMENT 5\n",
    "A company manufactures LED bulbs with a faulty rate of 30%.\n",
    "If I randomly select 6 chosen LEDs, what is the probability of having 2 faulty LEDs in my sample? \n",
    "Calculate the average value of this process. Also evaluate the standard deviation associated with it.\n",
    "\"\"\"\""
   ]
  },
  {
   "cell_type": "code",
   "execution_count": 5,
   "metadata": {},
   "outputs": [
    {
     "data": {
      "text/plain": [
       "array([0.324135])"
      ]
     },
     "execution_count": 5,
     "metadata": {},
     "output_type": "execute_result"
    }
   ],
   "source": [
    "n=6,\n",
    "p=0.30,\n",
    "k=2\n",
    "stats.binom.pmf(k,n,p)"
   ]
  },
  {
   "cell_type": "code",
   "execution_count": null,
   "metadata": {},
   "outputs": [],
   "source": [
    "\"\"\"\n",
    "PROBLEM STATEMENT 6\n",
    "Gaurav and Barakha are both preparing for entrance exams.\n",
    "Gaurav attempts to solve 8 questions per day with a correction rate of 75%, \n",
    "while Barakha averages around 12 questions per day with a correction rate of 45%. \n",
    "What is the probability that each of them will solve 5 questions correctly? \n",
    "What happens in cases of 4 and 6 correct solutions? \n",
    "What do you infer from it? What are the two main governing factors affecting their ability to solve questions correctly?\n",
    "Give a pictorial representation of the same to validate your answer.\n",
    "\"\"\""
   ]
  },
  {
   "cell_type": "code",
   "execution_count": 4,
   "metadata": {},
   "outputs": [
    {
     "data": {
      "text/plain": [
       "0.20764160156250022"
      ]
     },
     "execution_count": 4,
     "metadata": {},
     "output_type": "execute_result"
    }
   ],
   "source": [
    "p1 = 0.75\n",
    "k1 = 5\n",
    "n1 = 8\n",
    "stats.binom.pmf(k1,n1,p1)"
   ]
  },
  {
   "cell_type": "code",
   "execution_count": 6,
   "metadata": {},
   "outputs": [
    {
     "data": {
      "text/plain": [
       "0.22249823843265792"
      ]
     },
     "execution_count": 6,
     "metadata": {},
     "output_type": "execute_result"
    }
   ],
   "source": [
    "p2 = 0.45\n",
    "k2 = 5\n",
    "n2 = 12\n",
    "stats.binom.pmf(k2,n2,p2)"
   ]
  },
  {
   "cell_type": "code",
   "execution_count": 7,
   "metadata": {},
   "outputs": [
    {
     "data": {
      "text/plain": [
       "0.08651733398437506"
      ]
     },
     "execution_count": 7,
     "metadata": {},
     "output_type": "execute_result"
    }
   ],
   "source": [
    "p1 = 0.75\n",
    "k1 = 4\n",
    "n1 = 8\n",
    "stats.binom.pmf(k1,n1,p1)"
   ]
  },
  {
   "cell_type": "code",
   "execution_count": 8,
   "metadata": {},
   "outputs": [
    {
     "data": {
      "text/plain": [
       "0.16996393213605795"
      ]
     },
     "execution_count": 8,
     "metadata": {},
     "output_type": "execute_result"
    }
   ],
   "source": [
    "p2 = 0.45\n",
    "k2 = 4\n",
    "n2 = 12\n",
    "stats.binom.pmf(k2,n2,p2)"
   ]
  },
  {
   "cell_type": "code",
   "execution_count": 9,
   "metadata": {},
   "outputs": [
    {
     "data": {
      "text/plain": [
       "0.31146240234375017"
      ]
     },
     "execution_count": 9,
     "metadata": {},
     "output_type": "execute_result"
    }
   ],
   "source": [
    "p1 = 0.75\n",
    "k1 = 6\n",
    "n1 = 8\n",
    "stats.binom.pmf(k1,n1,p1)"
   ]
  },
  {
   "cell_type": "code",
   "execution_count": 10,
   "metadata": {},
   "outputs": [
    {
     "data": {
      "text/plain": [
       "0.21238468214026424"
      ]
     },
     "execution_count": 10,
     "metadata": {},
     "output_type": "execute_result"
    }
   ],
   "source": [
    "p2 = 0.45\n",
    "k2 = 6\n",
    "n2 = 12\n",
    "stats.binom.pmf(k2,n2,p2)"
   ]
  },
  {
   "cell_type": "code",
   "execution_count": 13,
   "metadata": {},
   "outputs": [
    {
     "data": {
      "text/plain": [
       "<matplotlib.collections.LineCollection at 0x266eed96880>"
      ]
     },
     "execution_count": 13,
     "metadata": {},
     "output_type": "execute_result"
    },
    {
     "data": {
      "image/png": "[encoded data removed]",
      "text/plain": [
       "<Figure size 432x288 with 1 Axes>"
      ]
     },
     "metadata": {
      "needs_background": "light"
     },
     "output_type": "display_data"
    }
   ],
   "source": [
    "# n1 = 8(GAURAV)\n",
    "from matplotlib import pyplot as plt\n",
    "fig, ax = plt.subplots(1,1)\n",
    "x = [4,5,6]\n",
    "ax.plot(x, stats.binom.pmf(x,n1,p1), 'bo', ms=8, label='binom pmf')\n",
    "ax.vlines(x, 0, stats.binom.pmf(x,n1,p1), colors='b', lw=5, alpha=0.5)"
   ]
  },
  {
   "cell_type": "code",
   "execution_count": 14,
   "metadata": {},
   "outputs": [
    {
     "data": {
      "text/plain": [
       "<matplotlib.collections.LineCollection at 0x266eee160a0>"
      ]
     },
     "execution_count": 14,
     "metadata": {},
     "output_type": "execute_result"
    },
    {
     "data": {
      "image/png": "[encoded data removed]",
      "text/plain": [
       "<Figure size 432x288 with 1 Axes>"
      ]
     },
     "metadata": {
      "needs_background": "light"
     },
     "output_type": "display_data"
    }
   ],
   "source": [
    "#n2 = 12(Barakha)\n",
    "from matplotlib import pyplot as plt\n",
    "fig, ax=plt.subplots(1,1)\n",
    "x=[4,5,6]\n",
    "ax.plot(x, stats.binom.pmf(x,n2,p2), 'bo', ms=8, label='binom.pmf')\n",
    "ax.vlines(x,0,stats.binom.pmf(x,n2,p2), colors='b', lw=5, alpha=0.5)"
   ]
  },
  {
   "cell_type": "code",
   "execution_count": null,
   "metadata": {},
   "outputs": [],
   "source": [
    "Two main governing factors affecting their ability to solve questions correctly are the probability of solving a question \n",
    "correctly (probability of success p ) and the number of questions per day they are attempting to solve (n)"
   ]
  },
  {
   "cell_type": "code",
   "execution_count": null,
   "metadata": {},
   "outputs": [],
   "source": [
    "#PROBLEM 7\n",
    "\"\"\"\n",
    "Customers arrive at a rate of 72 per hour to my shop.\n",
    "What is the probability of 𝑘 customers arriving in 4 minutes? \n",
    "a) 5 customers, b) not more than 3 customers, \n",
    "c) more than 3 customers. Give a pictorial representation of the same to validate your answer.\n",
    "\n",
    "\"\"\""
   ]
  },
  {
   "cell_type": "code",
   "execution_count": 18,
   "metadata": {},
   "outputs": [
    {
     "name": "stdout",
     "output_type": "stream",
     "text": [
      "0.17474768364388296\n"
     ]
    }
   ],
   "source": [
    "from scipy import stats\n",
    "mu1 = (4*72)/60\n",
    "k1 = 5\n",
    "p1 = stats.poisson.pmf(k1,mu1)\n",
    "print(p1)\n",
    "\n"
   ]
  },
  {
   "cell_type": "code",
   "execution_count": 20,
   "metadata": {},
   "outputs": [
    {
     "name": "stdout",
     "output_type": "stream",
     "text": [
      "0.29422991649656405\n"
     ]
    }
   ],
   "source": [
    "# not more than  3 customers\n",
    "p2 = stats.poisson.pmf(0,mu1) + stats.poisson.pmf(1,mu1) + stats.poisson.pmf(2,mu1) + stats.poisson.pmf(3,mu1)\n",
    "print(p2)"
   ]
  },
  {
   "cell_type": "code",
   "execution_count": 21,
   "metadata": {},
   "outputs": [
    {
     "name": "stdout",
     "output_type": "stream",
     "text": [
      "0.705770083503436\n"
     ]
    }
   ],
   "source": [
    "#more than 3 customers\n",
    "p3 = 1-p2\n",
    "print(p3)"
   ]
  },
  {
   "cell_type": "code",
   "execution_count": 22,
   "metadata": {},
   "outputs": [
    {
     "data": {
      "text/plain": [
       "<matplotlib.collections.LineCollection at 0x266eee75f10>"
      ]
     },
     "execution_count": 22,
     "metadata": {},
     "output_type": "execute_result"
    },
    {
     "data": {
      "image/png": "[encoded data removed]",
      "text/plain": [
       "<Figure size 432x288 with 1 Axes>"
      ]
     },
     "metadata": {
      "needs_background": "light"
     },
     "output_type": "display_data"
    }
   ],
   "source": [
    "k = [i for i in range(0,15)]\n",
    "fig, ax = plt.subplots(1,1)\n",
    "ax.plot(k, stats.poisson.pmf(k,mu1), 'bo', ms=8, label='poisson.pmf')\n",
    "ax.vlines(k, 0, stats.poisson.pmf(k,mu1), colors='b', lw=5, alpha=0.5)"
   ]
  },
  {
   "cell_type": "code",
   "execution_count": null,
   "metadata": {},
   "outputs": [],
   "source": [
    "#PROBLEM 8\n",
    "\"\"\"\n",
    "I work as a data analyst in Aeon Learning Pvt. Ltd. \n",
    "After analyzing data, I make reports, where I have the efficiency of entering 77 words per minute with 6 errors per hour.\n",
    "What is the probability that I will commit 2 errors in a 455-word financial report? \n",
    "What happens when the no. of words increases/decreases (in case of 1000 words, 255 words)?\n",
    "How is the 𝜆 affected?\n",
    "How does it influence the PMF?\n",
    "Give a pictorial representation of the same to validate your answer\n",
    "\"\"\""
   ]
  },
  {
   "cell_type": "code",
   "execution_count": 23,
   "metadata": {},
   "outputs": [
    {
     "name": "stdout",
     "output_type": "stream",
     "text": [
      "0.5909090909090909\n",
      "0.09669027375144444\n"
     ]
    }
   ],
   "source": [
    "words_per_min = 77\n",
    "errors_per_hour = 6\n",
    "no_of_words = 455\n",
    "min_words_per_min = no_of_words/words_per_min\n",
    "average = min_words_per_min * errors_per_hour/ 60\n",
    "mu2 = average\n",
    "k = 2\n",
    "print(mu2)\n",
    "print(stats.poisson.pmf(k,mu2))"
   ]
  },
  {
   "cell_type": "code",
   "execution_count": 24,
   "metadata": {},
   "outputs": [
    {
     "name": "stdout",
     "output_type": "stream",
     "text": [
      "1.2987012987012987\n",
      "0.23012815007300153\n"
     ]
    }
   ],
   "source": [
    "words_per_min = 77\n",
    "errors_per_hour = 6\n",
    "no_of_words = 1000\n",
    "min_words_per_min = no_of_words/words_per_min\n",
    "average = min_words_per_min * errors_per_hour/ 60\n",
    "mu3 = average\n",
    "k = 2\n",
    "print(mu3)\n",
    "print(stats.poisson.pmf(k,mu3))"
   ]
  },
  {
   "cell_type": "code",
   "execution_count": 25,
   "metadata": {},
   "outputs": [
    {
     "name": "stdout",
     "output_type": "stream",
     "text": [
      "0.3311688311688312\n",
      "0.039377135392854125\n"
     ]
    }
   ],
   "source": [
    "words_per_min = 77\n",
    "errors_per_hour = 6\n",
    "no_of_words = 255\n",
    "min_words_per_min = no_of_words/words_per_min\n",
    "average = min_words_per_min * errors_per_hour/ 60\n",
    "mu4 = average\n",
    "k = 2\n",
    "print(mu4)\n",
    "print(stats.poisson.pmf(k,mu4))"
   ]
  },
  {
   "cell_type": "code",
   "execution_count": null,
   "metadata": {},
   "outputs": [],
   "source": [
    "WHEN NUMBER OF WORDS INCREASES, MU(AVERAGE) INCREASES AND PROBABILITY PMF INCREASES ALSO\n",
    "WHEN NUMBER OF WORDS DECREASES, MU(AVERAGE) AND PROBABILITY PMF DECREASE"
   ]
  },
  {
   "cell_type": "code",
   "execution_count": 26,
   "metadata": {},
   "outputs": [
    {
     "data": {
      "text/plain": [
       "<matplotlib.collections.LineCollection at 0x266eeece0d0>"
      ]
     },
     "execution_count": 26,
     "metadata": {},
     "output_type": "execute_result"
    },
    {
     "data": {
      "image/png": "[encoded data removed]",
      "text/plain": [
       "<Figure size 432x288 with 1 Axes>"
      ]
     },
     "metadata": {
      "needs_background": "light"
     },
     "output_type": "display_data"
    }
   ],
   "source": [
    "fig, ax = plt.subplots(1,1)\n",
    "k = [2]\n",
    "ax.plot(k, stats.poisson.pmf(k,mu2), 'bo', ms=8, label='poisson pmf')\n",
    "ax.vlines(k, 0, stats.poisson.pmf(k,mu2), colors='b', lw=5, alpha=0.5)\n"
   ]
  },
  {
   "cell_type": "code",
   "execution_count": 27,
   "metadata": {},
   "outputs": [
    {
     "data": {
      "text/plain": [
       "<matplotlib.collections.LineCollection at 0x266eef43dc0>"
      ]
     },
     "execution_count": 27,
     "metadata": {},
     "output_type": "execute_result"
    },
    {
     "data": {
      "image/png": "[encoded data removed]",
      "text/plain": [
       "<Figure size 432x288 with 1 Axes>"
      ]
     },
     "metadata": {
      "needs_background": "light"
     },
     "output_type": "display_data"
    }
   ],
   "source": [
    "fig, ax = plt.subplots(1,1)\n",
    "k = [2]\n",
    "ax.plot(k, stats.poisson.pmf(k,mu3), 'bo', ms=8, label='poisson pmf')\n",
    "ax.vlines(k, 0, stats.poisson.pmf(k,mu3), colors='b', lw=5, alpha=0.5)\n"
   ]
  },
  {
   "cell_type": "code",
   "execution_count": 28,
   "metadata": {},
   "outputs": [
    {
     "data": {
      "text/plain": [
       "<matplotlib.collections.LineCollection at 0x266eeec23d0>"
      ]
     },
     "execution_count": 28,
     "metadata": {},
     "output_type": "execute_result"
    },
    {
     "data": {
      "image/png": "[encoded data removed]",
      "text/plain": [
       "<Figure size 432x288 with 1 Axes>"
      ]
     },
     "metadata": {
      "needs_background": "light"
     },
     "output_type": "display_data"
    }
   ],
   "source": [
    "fig, ax = plt.subplots(1,1)\n",
    "k = [2]\n",
    "ax.plot(k, stats.poisson.pmf(k,mu4), 'bo', ms=8, label='poisson pmf')\n",
    "ax.vlines(k, 0, stats.poisson.pmf(k,mu4), colors='b', lw=5, alpha=0.5)\n"
   ]
  },
  {
   "cell_type": "code",
   "execution_count": null,
   "metadata": {},
   "outputs": [],
   "source": [
    "#PROBLEM 10\n",
    "\"\"\"\n",
    "Please compute the following: \n",
    "a) P(Z > 1.26), . P(Z < −0.86), P(Z > −1.37), P(−1.25 < Z < 0.37), . P(Z ≤ −4.6) \n",
    "b) Find the value 𝑧 such that 𝑃(𝑍 > 𝑧) = 0.05\n",
    "c) Find the value of 𝑧 such that 𝑃(−𝑧 < 𝑍 < 𝑧) = 0.99\n",
    "\n",
    "\"\"\""
   ]
  },
  {
   "cell_type": "code",
   "execution_count": 31,
   "metadata": {},
   "outputs": [
    {
     "name": "stdout",
     "output_type": "stream",
     "text": [
      "0.10383468112130045\n",
      "0.1948945212518084\n",
      "0.914656549178033\n",
      "0.5386589811336914\n",
      "2.1124547025028537e-06\n"
     ]
    }
   ],
   "source": [
    "#P(Z > 1.26) = 1 - P(Z<=1.26) = 1 - F(1.26)\n",
    "print(1 - stats.norm.cdf(1.26))\n",
    "\n",
    "#P(Z < −0.86) = F(-0.86)\n",
    "print(stats.norm.cdf(-0.86))\n",
    "\n",
    "#P(Z > −1.37) = 1 - P(Z <= -1.37) = 1 - F(-1.37)\n",
    "print(1 - stats.norm.cdf(-1.37))\n",
    "\n",
    "#P(−1.25 < Z < 0.37) = F(0.37) - F(-1.25)\n",
    "print(stats.norm.cdf(0.37) - stats.norm.cdf(-1.25))\n",
    "\n",
    "#P(Z ≤ −4.6)\n",
    "print(stats.norm.cdf(-4.6))\n"
   ]
  },
  {
   "cell_type": "code",
   "execution_count": 39,
   "metadata": {},
   "outputs": [
    {
     "name": "stdout",
     "output_type": "stream",
     "text": [
      "1.6\n"
     ]
    }
   ],
   "source": [
    "#b) Find the value 𝑧 such that 𝑃(𝑍 > 𝑧) = 0.05\n",
    "# 1 - F(z) = 0.05, F(z) = 0.95\n",
    "\n",
    "Fz = 1 - 0.05\n",
    "for i in range(-349,349):\n",
    "    z = i/100.0\n",
    "    cdf = round(stats.norm.cdf(z),2)\n",
    "    if(cdf == Fz):\n",
    "        print(z)\n",
    "        break"
   ]
  },
  {
   "cell_type": "code",
   "execution_count": 40,
   "metadata": {},
   "outputs": [
    {
     "name": "stdout",
     "output_type": "stream",
     "text": [
      "2.44\n"
     ]
    }
   ],
   "source": [
    "#c) Find the value of 𝑧 such that 𝑃(−𝑧 < 𝑍 < 𝑧) = 0.99\n",
    "# F(z) - F(-z) = 0.99\n",
    "var = 0.99\n",
    "for i in range(-349, 349):\n",
    "    z = i/100.0\n",
    "    cdf_z = round(stats.norm.cdf(z), 3)\n",
    "    cdf_minusz = round(stats.norm.cdf(-z), 3)\n",
    "    if((round(cdf_z - cdf_minusz, 2)) == var):\n",
    "        print(z)\n",
    "        break\n",
    "\n"
   ]
  },
  {
   "cell_type": "code",
   "execution_count": null,
   "metadata": {},
   "outputs": [],
   "source": [
    "#PROBLEM 11\n",
    "\"\"\"\n",
    "The current flow in a copper wire follow a normal distribution with a mean of 10 𝑚A \n",
    "and a variance of 4 (𝑚𝐴)2.\n",
    "What is the probability that a current measurement will exceed 13 𝑚𝐴?\n",
    "What is the probability that a current measurement is between 9 and 11mA? \n",
    "Determine the current measurement which has a probability of 0.98.\n",
    "\"\"\""
   ]
  },
  {
   "cell_type": "code",
   "execution_count": 43,
   "metadata": {},
   "outputs": [],
   "source": [
    "import numpy as np\n",
    "mean = 10\n",
    "var = 4\n",
    "sigma = np.sqrt(var)"
   ]
  },
  {
   "cell_type": "code",
   "execution_count": 44,
   "metadata": {},
   "outputs": [
    {
     "name": "stdout",
     "output_type": "stream",
     "text": [
      "0.3085375387259869\n"
     ]
    }
   ],
   "source": [
    "# P(X>11) = P((X - 10)/2 > (11 - 10)/2) => P(Z > 0.5) = 1 - P(Z<=0.5) = 1-F(0.5)\n",
    "z = (11 - mean)/ sigma\n",
    "print(1 - stats.norm.cdf(z))"
   ]
  },
  {
   "cell_type": "code",
   "execution_count": 45,
   "metadata": {},
   "outputs": [
    {
     "name": "stdout",
     "output_type": "stream",
     "text": [
      "0.38292492254802624\n"
     ]
    }
   ],
   "source": [
    "# P(9 <= x <= 11) = P(-0.5 <= Z <= 0.5) = F(0.5) - F(-0.5)\n",
    "a = (9 - mean) / sigma\n",
    "b = (11 - mean) / sigma\n",
    "print(stats.norm.cdf(b) - stats.norm.cdf(a))"
   ]
  },
  {
   "cell_type": "code",
   "execution_count": null,
   "metadata": {},
   "outputs": [],
   "source": [
    "# P(x=0.98) = 0 since Normal Distribution is a continuous distribution"
   ]
  },
  {
   "cell_type": "code",
   "execution_count": null,
   "metadata": {},
   "outputs": [],
   "source": [
    "#PROBLEM 12\n",
    "The shaft in a piston has its diameter normally distributed with a mean of 0.2508 inch and a standard deviation of 0.0005 inch.\n",
    "The specifications of the shaft are 0.2500 ∓ 0.0015 inch.\n",
    "What proportion of shafts are in sync with the specifications?\n",
    "If the process is centered so that the mean is equal to the target value of 0.2500, \n",
    "what proportion of shafts conform to the new specifications? \n",
    "What is your conclusion from this experiment?"
   ]
  },
  {
   "cell_type": "code",
   "execution_count": 47,
   "metadata": {},
   "outputs": [
    {
     "name": "stdout",
     "output_type": "stream",
     "text": [
      "Proportion of shafts in sync with the specification are: 0.91924122831152\n",
      "Proportion of shafts in sync with the specification after the process is centered is : 0.9973002039367398\n"
     ]
    }
   ],
   "source": [
    "mean = 0.2508\n",
    "std = 0.0005\n",
    "l1 = 0.2500-0.0015\n",
    "l2 = 0.2500+0.0015\n",
    "print(\"Proportion of shafts in sync with the specification are:\", (stats.norm.cdf(l2,mean,std) - stats.norm.cdf(l1,mean,std)))\n",
    "mean1 = 0.2500\n",
    "print(\"Proportion of shafts in sync with the specification after the process is centered is :\", (stats.norm.cdf(l2,mean1,std) - stats.norm.cdf(l1,mean1,std)))"
   ]
  },
  {
   "cell_type": "code",
   "execution_count": null,
   "metadata": {},
   "outputs": [],
   "source": [
    "If the mean of the shafts is centered to the mean of the specifications of the shaft the proportion of shafts which are in sync with the specification increases."
   ]
  }
 ],
 "metadata": {
  "kernelspec": {
   "display_name": "Python 3",
   "language": "python",
   "name": "python3"
  },
  "language_info": {
   "codemirror_mode": {
    "name": "ipython",
    "version": 3
   },
   "file_extension": ".py",
   "mimetype": "text/x-python",
   "name": "python",
   "nbconvert_exporter": "python",
   "pygments_lexer": "ipython3",
   "version": "3.8.5"
  }
 },
 "nbformat": 4,
 "nbformat_minor": 4
}
